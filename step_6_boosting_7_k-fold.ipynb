{
 "cells": [
  {
   "cell_type": "markdown",
   "id": "ff79451f",
   "metadata": {},
   "source": [
    "## Boosting (Decision Tree Approach)\n",
    "The provided dataset contains a combination of quantitative and qualitative features, some of which may have non-linear relationships with the response variable. Boosting can handle these qualities well. In addition, boosting models learn slowly and attribute weight to important features, providing sufficient interpretability for the hospital board to learn from the model after it has been fitted."
   ]
  },
  {
   "cell_type": "code",
   "execution_count": 4,
   "id": "fa3a686a",
   "metadata": {},
   "outputs": [],
   "source": [
    "# Import dependencies\n",
    "import pandas as pd\n",
    "import numpy as np\n",
    "import matplotlib.pyplot as plt"
   ]
  },
  {
   "cell_type": "code",
   "execution_count": 5,
   "id": "6299a263",
   "metadata": {},
   "outputs": [
    {
     "data": {
      "text/html": [
       "<div>\n",
       "<style scoped>\n",
       "    .dataframe tbody tr th:only-of-type {\n",
       "        vertical-align: middle;\n",
       "    }\n",
       "\n",
       "    .dataframe tbody tr th {\n",
       "        vertical-align: top;\n",
       "    }\n",
       "\n",
       "    .dataframe thead th {\n",
       "        text-align: right;\n",
       "    }\n",
       "</style>\n",
       "<table border=\"1\" class=\"dataframe\">\n",
       "  <thead>\n",
       "    <tr style=\"text-align: right;\">\n",
       "      <th></th>\n",
       "      <th>Facility Name</th>\n",
       "      <th>Facility ID</th>\n",
       "      <th>State</th>\n",
       "      <th>Measure Name</th>\n",
       "      <th>Number of Discharges</th>\n",
       "      <th>Footnote</th>\n",
       "      <th>Excess Readmission Ratio</th>\n",
       "      <th>Predicted Readmission Rate</th>\n",
       "      <th>Expected Readmission Rate</th>\n",
       "      <th>Number of Readmissions</th>\n",
       "      <th>Start Date</th>\n",
       "      <th>End Date</th>\n",
       "    </tr>\n",
       "  </thead>\n",
       "  <tbody>\n",
       "    <tr>\n",
       "      <th>0</th>\n",
       "      <td>SOUTHEAST HEALTH MEDICAL CENTER</td>\n",
       "      <td>10001</td>\n",
       "      <td>AL</td>\n",
       "      <td>READM-30-AMI-HRRP</td>\n",
       "      <td>296.0</td>\n",
       "      <td>NaN</td>\n",
       "      <td>0.9483</td>\n",
       "      <td>13.0146</td>\n",
       "      <td>13.7235</td>\n",
       "      <td>36</td>\n",
       "      <td>07/01/2020</td>\n",
       "      <td>06/30/2023</td>\n",
       "    </tr>\n",
       "    <tr>\n",
       "      <th>1</th>\n",
       "      <td>SOUTHEAST HEALTH MEDICAL CENTER</td>\n",
       "      <td>10001</td>\n",
       "      <td>AL</td>\n",
       "      <td>READM-30-CABG-HRRP</td>\n",
       "      <td>151.0</td>\n",
       "      <td>NaN</td>\n",
       "      <td>0.9509</td>\n",
       "      <td>9.6899</td>\n",
       "      <td>10.1898</td>\n",
       "      <td>13</td>\n",
       "      <td>07/01/2020</td>\n",
       "      <td>06/30/2023</td>\n",
       "    </tr>\n",
       "    <tr>\n",
       "      <th>2</th>\n",
       "      <td>SOUTHEAST HEALTH MEDICAL CENTER</td>\n",
       "      <td>10001</td>\n",
       "      <td>AL</td>\n",
       "      <td>READM-30-HF-HRRP</td>\n",
       "      <td>681.0</td>\n",
       "      <td>NaN</td>\n",
       "      <td>1.0597</td>\n",
       "      <td>21.5645</td>\n",
       "      <td>20.3495</td>\n",
       "      <td>151</td>\n",
       "      <td>07/01/2020</td>\n",
       "      <td>06/30/2023</td>\n",
       "    </tr>\n",
       "    <tr>\n",
       "      <th>3</th>\n",
       "      <td>SOUTHEAST HEALTH MEDICAL CENTER</td>\n",
       "      <td>10001</td>\n",
       "      <td>AL</td>\n",
       "      <td>READM-30-HIP-KNEE-HRRP</td>\n",
       "      <td>NaN</td>\n",
       "      <td>NaN</td>\n",
       "      <td>0.9654</td>\n",
       "      <td>4.2680</td>\n",
       "      <td>4.4211</td>\n",
       "      <td>Too Few to Report</td>\n",
       "      <td>07/01/2020</td>\n",
       "      <td>06/30/2023</td>\n",
       "    </tr>\n",
       "    <tr>\n",
       "      <th>4</th>\n",
       "      <td>SOUTHEAST HEALTH MEDICAL CENTER</td>\n",
       "      <td>10001</td>\n",
       "      <td>AL</td>\n",
       "      <td>READM-30-PN-HRRP</td>\n",
       "      <td>490.0</td>\n",
       "      <td>NaN</td>\n",
       "      <td>0.9715</td>\n",
       "      <td>16.1137</td>\n",
       "      <td>16.5863</td>\n",
       "      <td>77</td>\n",
       "      <td>07/01/2020</td>\n",
       "      <td>06/30/2023</td>\n",
       "    </tr>\n",
       "  </tbody>\n",
       "</table>\n",
       "</div>"
      ],
      "text/plain": [
       "                     Facility Name  Facility ID State            Measure Name  \\\n",
       "0  SOUTHEAST HEALTH MEDICAL CENTER        10001    AL       READM-30-AMI-HRRP   \n",
       "1  SOUTHEAST HEALTH MEDICAL CENTER        10001    AL      READM-30-CABG-HRRP   \n",
       "2  SOUTHEAST HEALTH MEDICAL CENTER        10001    AL        READM-30-HF-HRRP   \n",
       "3  SOUTHEAST HEALTH MEDICAL CENTER        10001    AL  READM-30-HIP-KNEE-HRRP   \n",
       "4  SOUTHEAST HEALTH MEDICAL CENTER        10001    AL        READM-30-PN-HRRP   \n",
       "\n",
       "   Number of Discharges  Footnote  Excess Readmission Ratio  \\\n",
       "0                 296.0       NaN                    0.9483   \n",
       "1                 151.0       NaN                    0.9509   \n",
       "2                 681.0       NaN                    1.0597   \n",
       "3                   NaN       NaN                    0.9654   \n",
       "4                 490.0       NaN                    0.9715   \n",
       "\n",
       "   Predicted Readmission Rate  Expected Readmission Rate  \\\n",
       "0                     13.0146                    13.7235   \n",
       "1                      9.6899                    10.1898   \n",
       "2                     21.5645                    20.3495   \n",
       "3                      4.2680                     4.4211   \n",
       "4                     16.1137                    16.5863   \n",
       "\n",
       "  Number of Readmissions  Start Date    End Date  \n",
       "0                     36  07/01/2020  06/30/2023  \n",
       "1                     13  07/01/2020  06/30/2023  \n",
       "2                    151  07/01/2020  06/30/2023  \n",
       "3      Too Few to Report  07/01/2020  06/30/2023  \n",
       "4                     77  07/01/2020  06/30/2023  "
      ]
     },
     "execution_count": 5,
     "metadata": {},
     "output_type": "execute_result"
    }
   ],
   "source": [
    "# Import the data set\n",
    "df = pd.read_csv('FY_2025_Hospital_Readmissions_Reduction_Program_Hospital.csv')\n",
    "df.head()"
   ]
  },
  {
   "cell_type": "markdown",
   "id": "7ad21d36",
   "metadata": {},
   "source": [
    "To answer this question, I want to look at the number of discharges by procedure/condition, and see how that affected the *rate* of readmissions (looking at number of readmissions would clearly have a positive correlation since more discharges means more readmissions, so this looks at total_readmisssions/total_discharges). To do this, we need to pivot a few of the table columns so we have a column for number of discharges by each procedure/condition grouped by facility id. Finally, we can drop all N/A values. This produces a final dataset with 10 columns and 115 rows."
   ]
  },
  {
   "cell_type": "code",
   "execution_count": 6,
   "id": "1273b4c4",
   "metadata": {},
   "outputs": [
    {
     "name": "stdout",
     "output_type": "stream",
     "text": [
      "(115, 10)\n"
     ]
    },
    {
     "data": {
      "text/html": [
       "<div>\n",
       "<style scoped>\n",
       "    .dataframe tbody tr th:only-of-type {\n",
       "        vertical-align: middle;\n",
       "    }\n",
       "\n",
       "    .dataframe tbody tr th {\n",
       "        vertical-align: top;\n",
       "    }\n",
       "\n",
       "    .dataframe thead th {\n",
       "        text-align: right;\n",
       "    }\n",
       "</style>\n",
       "<table border=\"1\" class=\"dataframe\">\n",
       "  <thead>\n",
       "    <tr style=\"text-align: right;\">\n",
       "      <th></th>\n",
       "      <th>Facility ID</th>\n",
       "      <th>Total Readmissions</th>\n",
       "      <th>Total Discharges</th>\n",
       "      <th>AMI</th>\n",
       "      <th>CABG</th>\n",
       "      <th>COPD</th>\n",
       "      <th>HF</th>\n",
       "      <th>HIP-KNEE</th>\n",
       "      <th>PN</th>\n",
       "      <th>Readmission Rate</th>\n",
       "    </tr>\n",
       "  </thead>\n",
       "  <tbody>\n",
       "    <tr>\n",
       "      <th>19</th>\n",
       "      <td>10039</td>\n",
       "      <td>612.0</td>\n",
       "      <td>4095.0</td>\n",
       "      <td>624.0</td>\n",
       "      <td>267.0</td>\n",
       "      <td>426.0</td>\n",
       "      <td>1270.0</td>\n",
       "      <td>168.0</td>\n",
       "      <td>1340.0</td>\n",
       "      <td>0.149451</td>\n",
       "    </tr>\n",
       "    <tr>\n",
       "      <th>53</th>\n",
       "      <td>10104</td>\n",
       "      <td>276.0</td>\n",
       "      <td>1797.0</td>\n",
       "      <td>207.0</td>\n",
       "      <td>112.0</td>\n",
       "      <td>154.0</td>\n",
       "      <td>598.0</td>\n",
       "      <td>385.0</td>\n",
       "      <td>341.0</td>\n",
       "      <td>0.153589</td>\n",
       "    </tr>\n",
       "    <tr>\n",
       "      <th>90</th>\n",
       "      <td>30006</td>\n",
       "      <td>323.0</td>\n",
       "      <td>2026.0</td>\n",
       "      <td>282.0</td>\n",
       "      <td>114.0</td>\n",
       "      <td>167.0</td>\n",
       "      <td>652.0</td>\n",
       "      <td>251.0</td>\n",
       "      <td>560.0</td>\n",
       "      <td>0.159427</td>\n",
       "    </tr>\n",
       "    <tr>\n",
       "      <th>119</th>\n",
       "      <td>30087</td>\n",
       "      <td>333.0</td>\n",
       "      <td>2068.0</td>\n",
       "      <td>286.0</td>\n",
       "      <td>119.0</td>\n",
       "      <td>111.0</td>\n",
       "      <td>692.0</td>\n",
       "      <td>229.0</td>\n",
       "      <td>631.0</td>\n",
       "      <td>0.161025</td>\n",
       "    </tr>\n",
       "    <tr>\n",
       "      <th>126</th>\n",
       "      <td>30103</td>\n",
       "      <td>388.0</td>\n",
       "      <td>2421.0</td>\n",
       "      <td>218.0</td>\n",
       "      <td>90.0</td>\n",
       "      <td>128.0</td>\n",
       "      <td>919.0</td>\n",
       "      <td>187.0</td>\n",
       "      <td>879.0</td>\n",
       "      <td>0.160264</td>\n",
       "    </tr>\n",
       "  </tbody>\n",
       "</table>\n",
       "</div>"
      ],
      "text/plain": [
       "     Facility ID  Total Readmissions  Total Discharges    AMI   CABG   COPD  \\\n",
       "19         10039               612.0            4095.0  624.0  267.0  426.0   \n",
       "53         10104               276.0            1797.0  207.0  112.0  154.0   \n",
       "90         30006               323.0            2026.0  282.0  114.0  167.0   \n",
       "119        30087               333.0            2068.0  286.0  119.0  111.0   \n",
       "126        30103               388.0            2421.0  218.0   90.0  128.0   \n",
       "\n",
       "         HF  HIP-KNEE      PN  Readmission Rate  \n",
       "19   1270.0     168.0  1340.0          0.149451  \n",
       "53    598.0     385.0   341.0          0.153589  \n",
       "90    652.0     251.0   560.0          0.159427  \n",
       "119   692.0     229.0   631.0          0.161025  \n",
       "126   919.0     187.0   879.0          0.160264  "
      ]
     },
     "execution_count": 6,
     "metadata": {},
     "output_type": "execute_result"
    }
   ],
   "source": [
    "# Manipulate and clean some of the data\n",
    "\n",
    "# Create a column with procedure/condition name from measure name\n",
    "df['Procedure'] = df['Measure Name'].str.extract(r'READM-30-(.*?)-HRRP')\n",
    "\n",
    "# Make sure discharges and readmissions are numeric, cast all non-numeric responses (e.g. \"N/A\", \"Too Few to Report\") to NaN\n",
    "df['Number of Readmissions'] = pd.to_numeric(df['Number of Readmissions'], errors='coerce')\n",
    "df['Number of Discharges'] = pd.to_numeric(df['Number of Discharges'], errors='coerce')\n",
    "\n",
    "# Aggregare to get total readmissions and discharges\n",
    "readmission_sum = df.groupby('Facility ID')[['Number of Readmissions', 'Number of Discharges']].sum().reset_index()\n",
    "readmission_sum.rename(columns={\n",
    "    'Number of Readmissions': 'Total Readmissions',\n",
    "    'Number of Discharges': 'Total Discharges'\n",
    "}, inplace=True)\n",
    "\n",
    "# Pivot to get number of discharges by procedure name\n",
    "discharges_by_type = df.pivot_table(\n",
    "    index='Facility ID',\n",
    "    columns='Procedure',\n",
    "    values='Number of Discharges'\n",
    ").reset_index()\n",
    "\n",
    "discharges_by_type.columns.name = None\n",
    "\n",
    "hospital_df = pd.merge(readmission_sum, discharges_by_type, on='Facility ID', how='left')\n",
    "hospital_df['Readmission Rate'] = hospital_df['Total Readmissions'] / hospital_df['Total Discharges']\n",
    "\n",
    "hospital_df = hospital_df.dropna()\n",
    "\n",
    "print(hospital_df.shape)\n",
    "hospital_df.head()"
   ]
  },
  {
   "cell_type": "markdown",
   "id": "ac43a07c",
   "metadata": {},
   "source": [
    "First, creating a simple decision tree. This was created using Google AI which cites sources from [this github repo](https://github.com/Rucious-Aladdin/Algorithm-TensorFlow_Practice) and [this scikit learn resource](https://wenku.csdn.net/answer/2qt29uabk2), and it was fixed/refined/improved using prior knowledge."
   ]
  },
  {
   "cell_type": "code",
   "execution_count": 7,
   "id": "c7ece4d5",
   "metadata": {},
   "outputs": [],
   "source": [
    "# Create a Decision Tree\n",
    "class DecisionTree:\n",
    "    def __init__(self, max_depth):\n",
    "        self.max_depth = max_depth\n",
    "        self.tree = {}\n",
    "\n",
    "    # Recursively fit the tree\n",
    "    def fit(self, X, y, depth=0):\n",
    "        if depth >= self.max_depth or len(set(y)) == 1:\n",
    "            self.tree = np.mean(y)\n",
    "            return\n",
    "        \n",
    "        best_feature, best_threshold, best_gain = self.find_best_split(X, y)\n",
    "        \n",
    "        if best_feature is None:\n",
    "            self.tree = np.mean(y)\n",
    "            return\n",
    "        \n",
    "        left_indices = X[:, best_feature] <= best_threshold\n",
    "        right_indices = ~left_indices\n",
    "        \n",
    "        # Use recursion \n",
    "        self.tree = {\n",
    "            'feature': best_feature,\n",
    "            'threshold': best_threshold,\n",
    "            'left': DecisionTree(max_depth=self.max_depth),\n",
    "            'right': DecisionTree(max_depth=self.max_depth),\n",
    "            'gain': best_gain\n",
    "        }\n",
    "        \n",
    "        # Fit on left and right of each split\n",
    "        self.tree['left'].fit(X[left_indices], y[left_indices], depth + 1)\n",
    "        self.tree['right'].fit(X[right_indices], y[right_indices], depth + 1)\n",
    "\n",
    "    # Find best possible split for current node\n",
    "    def find_best_split(self, X, y):\n",
    "        best_gain = 0\n",
    "        best_feature = None\n",
    "        best_threshold = None\n",
    "        \n",
    "        # Cycle through each possible threshold for each possible feature to find best gain\n",
    "        for feature in range(X.shape[1]):\n",
    "            unique_values = np.unique(X[:, feature])\n",
    "            for threshold in unique_values:\n",
    "                left_indices = X[:, feature] <= threshold\n",
    "                right_indices = ~left_indices\n",
    "                \n",
    "                if len(y[left_indices]) == 0 or len(y[right_indices]) == 0:\n",
    "                    continue\n",
    "                \n",
    "                gain = self.information_gain(y, y[left_indices], y[right_indices])\n",
    "                \n",
    "                # Compare, update best values if applicable\n",
    "                if gain > best_gain:\n",
    "                    best_gain = gain\n",
    "                    best_feature = feature\n",
    "                    best_threshold = threshold\n",
    "        \n",
    "        # Returns None if no split has gain > 0\n",
    "        return best_feature, best_threshold, best_gain\n",
    "\n",
    "    # Use variance reduction to determine gain\n",
    "    def information_gain(self, parent, left_child, right_child):\n",
    "         # Calculate variance reduction as the information gain\n",
    "        parent_variance = np.var(parent) if len(parent) > 0 else 0\n",
    "        left_variance = np.var(left_child) if len(left_child) > 0 else 0\n",
    "        right_variance = np.var(right_child) if len(right_child) > 0 else 0\n",
    "    \n",
    "        n_left = len(left_child)\n",
    "        n_right = len(right_child)\n",
    "        n_total = len(parent)\n",
    "    \n",
    "        # Variance reduction\n",
    "        # variance of parent - variance of children\n",
    "        gain = parent_variance - (n_left / n_total) * left_variance - (n_right / n_total) * right_variance\n",
    "        return gain\n",
    "\n",
    "    # Use tree to predict y for given X\n",
    "    def predict(self, X):\n",
    "        if isinstance(self.tree, (int, float)):\n",
    "            return np.full(len(X), self.tree)\n",
    "        \n",
    "        predictions = np.empty(len(X))\n",
    "        \n",
    "        # Iterate through tree nodes\n",
    "        for i, x in enumerate(X):\n",
    "            node = self.tree\n",
    "            while isinstance(node, dict):\n",
    "                if x[node['feature']] <= node['threshold']:\n",
    "                    node = node['left'].tree\n",
    "                else:\n",
    "                    node = node['right'].tree\n",
    "            predictions[i] = node\n",
    "        return predictions\n"
   ]
  },
  {
   "cell_type": "markdown",
   "id": "852583d0",
   "metadata": {},
   "source": [
    "Next, creating the boosting algorithm. This starts with a constant loss, in this case the mean of all y values. The model gets residuals from these predictions, and fits a small decision tree to them, and predictions are updated with new predictions adjusted by the learning rate. This continues (fitting model to the residuals, updating predictions) for the specified number of iterations. To help interperet the model, a fucntion is included to output normaliized importance by feature, calculated by summing the number of splits the feature was used in by relative gain of the respective split. Note that the boosting model uses a couple sklearn dependencies; this is NOT used to fit the model, but rather makes the model sklearn compatible to be able to create partial dependency plots (pdp) later for model interperetation."
   ]
  },
  {
   "cell_type": "code",
   "execution_count": 21,
   "id": "23f49cbd",
   "metadata": {},
   "outputs": [],
   "source": [
    "from sklearn.base import BaseEstimator, RegressorMixin\n",
    "\n",
    "# Make model scikit-learn compatible for pdp later (not actually used for fitting the model)\n",
    "class Boosting(BaseEstimator, RegressorMixin):\n",
    "    def __init__(self, n_estimators=100, learning_rate=0.1, max_depth=3):\n",
    "        self.n_estimators = n_estimators\n",
    "        self.learning_rate = learning_rate\n",
    "        self.max_depth = max_depth\n",
    "        self.trees = []\n",
    "        self.losses = []\n",
    "        self.is_fitted_ = False\n",
    "\n",
    "    def fit(self, X, y):\n",
    "         # Initialize predictions with the mean of the target variable\n",
    "        self.initial_prediction = np.mean(y)\n",
    "        predictions = np.full(len(y), self.initial_prediction)\n",
    "        \n",
    "        for _ in range(self.n_estimators):\n",
    "            # Calculate residuals\n",
    "            residuals = y - predictions\n",
    "            \n",
    "            # Fit a decision tree to the residuals\n",
    "            tree = DecisionTree(max_depth=self.max_depth)\n",
    "            tree.fit(X, residuals)\n",
    "            \n",
    "            # Update predictions\n",
    "            predictions += self.learning_rate * tree.predict(X)\n",
    "            \n",
    "            # Store the tree and MSE loss\n",
    "            self.trees.append(tree)\n",
    "            mse = np.mean(residuals ** 2)\n",
    "            self.losses.append(mse)\n",
    "\n",
    "        self.is_fitted_= True\n",
    "        return self\n",
    "\n",
    "    def predict(self, X):\n",
    "        # Initialize predictions with the initial prediction\n",
    "        predictions = np.full(len(X), self.initial_prediction)\n",
    "        \n",
    "        # Iteratively add the contributions from each tree, scaled by learning_rate\n",
    "        for tree in self.trees:\n",
    "            predictions += self.learning_rate * tree.predict(X)\n",
    "        return predictions\n",
    "    \n",
    "    # Evaluate importance of each feature\n",
    "    def feature_importance(self, num_features, feature_names = None):\n",
    "        importance = np.zeros(num_features)\n",
    "        for tree in self.trees:\n",
    "            self._accumulate_importance(tree.tree, importance)\n",
    "\n",
    "        importance /= np.sum(importance)  # Normalize\n",
    "\n",
    "        if feature_names:\n",
    "            for name, imp in zip(feature_names, importance):\n",
    "                print(f\"{name}: {imp:.4f}\")\n",
    "        else:\n",
    "            for idx, imp in enumerate(importance):\n",
    "                print(f\"Feature[{idx}]: {imp:.4f}\")\n",
    "\n",
    "        return importance\n",
    "\n",
    "    # Get importance throughout each tree\n",
    "    def _accumulate_importance(self, node, importance):\n",
    "        if isinstance(node, dict):\n",
    "            importance[node['feature']] += node['gain']\n",
    "            self._accumulate_importance(node['left'].tree, importance)\n",
    "            self._accumulate_importance(node['right'].tree, importance)"
   ]
  },
  {
   "cell_type": "markdown",
   "id": "ca0eb7eb",
   "metadata": {},
   "source": [
    "Then, fit the model and output loss curve and feature importance."
   ]
  },
  {
   "cell_type": "code",
   "execution_count": 25,
   "id": "797cbd22",
   "metadata": {},
   "outputs": [
    {
     "data": {
      "image/png": "[encoded data removed]",
      "text/plain": [
       "<Figure size 432x288 with 1 Axes>"
      ]
     },
     "metadata": {
      "needs_background": "light"
     },
     "output_type": "display_data"
    },
    {
     "name": "stdout",
     "output_type": "stream",
     "text": [
      "AMI: 0.2831\n",
      "CABG: 0.0930\n",
      "COPD: 0.1564\n",
      "HF: 0.1658\n",
      "HIP-KNEE: 0.1966\n",
      "PN: 0.1052\n",
      "Final training error: 1.1102994219720483e-05\n"
     ]
    }
   ],
   "source": [
    "# Split data into predictors and response\n",
    "X = hospital_df[['AMI', 'CABG',\t'COPD',\t'HF', 'HIP-KNEE', 'PN']]\n",
    "X = X.to_numpy()\n",
    "y = hospital_df['Readmission Rate'].values\n",
    "\n",
    "# Fit the boosting model\n",
    "model = Boosting()\n",
    "model.fit(X, y)\n",
    "\n",
    "# Plot loss over time\n",
    "plt.plot(model.losses)\n",
    "plt.xlabel('Iteration')\n",
    "plt.ylabel('RSS')\n",
    "plt.title('Boosting Training Loss Over Iterations')\n",
    "plt.grid(True)\n",
    "plt.show()\n",
    "\n",
    "# Print final training error\n",
    "model.feature_importance(num_features=6, feature_names=['AMI', 'CABG', 'COPD', 'HF', 'HIP-KNEE', 'PN']) \n",
    "print(\"Final training error:\", model.losses[-1])"
   ]
  },
  {
   "cell_type": "markdown",
   "id": "27cbc006",
   "metadata": {},
   "source": [
    "To help interperet the model, we can look at partial dependency plots using scikit-learn."
   ]
  },
  {
   "cell_type": "code",
   "execution_count": 24,
   "id": "bcc97c50",
   "metadata": {},
   "outputs": [
    {
     "data": {
      "image/png": "[encoded data removed]",
      "text/plain": [
       "<Figure size 432x288 with 1 Axes>"
      ]
     },
     "metadata": {
      "needs_background": "light"
     },
     "output_type": "display_data"
    },
    {
     "data": {
      "image/png": "[encoded data removed]",
      "text/plain": [
       "<Figure size 432x288 with 1 Axes>"
      ]
     },
     "metadata": {
      "needs_background": "light"
     },
     "output_type": "display_data"
    },
    {
     "data": {
      "image/png": "[encoded data removed]",
      "text/plain": [
       "<Figure size 432x288 with 1 Axes>"
      ]
     },
     "metadata": {
      "needs_background": "light"
     },
     "output_type": "display_data"
    },
    {
     "data": {
      "image/png": "[encoded data removed]",
      "text/plain": [
       "<Figure size 432x288 with 1 Axes>"
      ]
     },
     "metadata": {
      "needs_background": "light"
     },
     "output_type": "display_data"
    },
    {
     "data": {
      "image/png": "[encoded data removed]",
      "text/plain": [
       "<Figure size 432x288 with 1 Axes>"
      ]
     },
     "metadata": {
      "needs_background": "light"
     },
     "output_type": "display_data"
    },
    {
     "data": {
      "image/png": "[encoded data removed]",
      "text/plain": [
       "<Figure size 432x288 with 1 Axes>"
      ]
     },
     "metadata": {
      "needs_background": "light"
     },
     "output_type": "display_data"
    }
   ],
   "source": [
    "from sklearn.inspection import partial_dependence\n",
    "\n",
    "def plot_pdp(model, X, feature_idx, feature_name):\n",
    "    pdp = partial_dependence(model, X, [feature_idx], kind=\"average\")\n",
    "    plt.plot(pdp[\"grid_values\"][0], pdp[\"average\"][0])\n",
    "    plt.xlabel(feature_name)\n",
    "    plt.ylabel(\"Effect on Prediction\")\n",
    "    plt.show()\n",
    "\n",
    "for i, feature in enumerate(['AMI', 'CABG', 'COPD', 'HF', 'HIP-KNEE', 'PN']):\n",
    "    plot_pdp(model, X, i, feature);"
   ]
  },
  {
   "cell_type": "markdown",
   "id": "166a5433",
   "metadata": {},
   "source": [
    "Finally, using k-fold cross validation to validate the model. This uses the sklearn library KFold validator to estimate test error. This is a relatively small dataset (n=115), so LOOCV may be a feasible option, but the boosting tree is a slow learner so it is best to fit the model fewer times (in this case 5)."
   ]
  },
  {
   "cell_type": "code",
   "execution_count": 10,
   "id": "82d175ea",
   "metadata": {},
   "outputs": [
    {
     "name": "stdout",
     "output_type": "stream",
     "text": [
      "Test error: 0.0003\n"
     ]
    }
   ],
   "source": [
    "# Use sklearn library to perform k-fold cross validation\n",
    "from sklearn.model_selection import KFold\n",
    "from sklearn.metrics import mean_squared_error\n",
    "import numpy as np\n",
    "\n",
    "# Using 5 splits\n",
    "kf = KFold(n_splits=5, shuffle=True, random_state=42)\n",
    "\n",
    "mse_scores = []\n",
    "\n",
    "for train_index, test_index in kf.split(X):\n",
    "    X_train, X_test = X[train_index], X[test_index]\n",
    "    y_train, y_test = y[train_index], y[test_index]\n",
    "    \n",
    "    model = Boosting()\n",
    "    model.fit(X_train, y_train)\n",
    "    preds = model.predict(X_test)\n",
    "    \n",
    "    mse = mean_squared_error(y_test, preds)\n",
    "    mse_scores.append(mse)\n",
    "\n",
    "print(f\"Test error: {np.mean(mse_scores):.4f}\")"
   ]
  },
  {
   "cell_type": "markdown",
   "id": "f8b80560",
   "metadata": {},
   "source": [
    "We get a training error of .00001 and a test error of 0.0003. The test error is about 30x bigger than the training error, so this may indicate overfitting, but it is still a relatively small error."
   ]
  }
 ],
 "metadata": {
  "kernelspec": {
   "display_name": "base",
   "language": "python",
   "name": "python3"
  },
  "language_info": {
   "codemirror_mode": {
    "name": "ipython",
    "version": 3
   },
   "file_extension": ".py",
   "mimetype": "text/x-python",
   "name": "python",
   "nbconvert_exporter": "python",
   "pygments_lexer": "ipython3",
   "version": "3.8.8"
  }
 },
 "nbformat": 4,
 "nbformat_minor": 5
}
